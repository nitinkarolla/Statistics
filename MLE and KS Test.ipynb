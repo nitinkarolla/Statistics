{
 "cells": [
  {
   "cell_type": "markdown",
   "metadata": {},
   "source": [
    "## Assignment 4\n",
    "\n",
    "By Siddharth Sundararajan and Nitin Reddy"
   ]
  },
  {
   "cell_type": "code",
   "execution_count": 1,
   "metadata": {},
   "outputs": [
    {
     "name": "stderr",
     "output_type": "stream",
     "text": [
      "Installing package into 'C:/Users/nitin/OneDrive/Documents/R/win-library/3.5'\n",
      "(as 'lib' is unspecified)\n"
     ]
    },
    {
     "name": "stdout",
     "output_type": "stream",
     "text": [
      "package 'matlib' successfully unpacked and MD5 sums checked\n",
      "\n",
      "The downloaded binary packages are in\n",
      "\tC:\\Users\\nitin\\AppData\\Local\\Temp\\RtmpyIYYzl\\downloaded_packages\n"
     ]
    }
   ],
   "source": [
    "# Installing the required packages\n",
    "install.packages(\"matlib\")\n",
    "library(matlib)"
   ]
  },
  {
   "cell_type": "code",
   "execution_count": 2,
   "metadata": {},
   "outputs": [],
   "source": [
    "# Writing the required symbols\n",
    "mu=intToUtf8(0x03BC)\n",
    "sigma=intToUtf8(0x03C3)\n",
    "varcovar = intToUtf8(0x03A3)\n",
    "alpha = intToUtf8(0x03B1)\n",
    "beta = intToUtf8(0x03B2)\n",
    "lambda = intToUtf8(0x03BB)"
   ]
  },
  {
   "cell_type": "code",
   "execution_count": 3,
   "metadata": {},
   "outputs": [],
   "source": [
    "# MLE for all the functions\n",
    "\n",
    "# Bernoulli function\n",
    "bernoulli.mle <- function(x) {\n",
    "  p <- mean(x)\n",
    "  cat(\"BERNOULLI DISTRIBUTION \\n\")\n",
    "  cat(\"The population estimate for bernoulli distribution is : p = \", p, \"\\n\")\n",
    "  cat(\"\\n\")\n",
    "  return(p)\n",
    "}\n",
    "\n",
    "# Binomial function\n",
    "binomial.mle <- function(x) {\n",
    "  p <- mean(x)\n",
    "  n <- length(x)\n",
    "  cat(\"BINOMIAL DISTRIBUTION \\n\")\n",
    "  cat(\"The population estimate for binomial distribution is : n = \", n,\n",
    "      \", p = \", p, \"\\n\")\n",
    "  cat(\"\\n\")\n",
    "  return(c(n,p))\n",
    "}\n",
    "\n",
    "# Geometric function\n",
    "geometric.mle <- function(x) {\n",
    "  p <- 1/(mean(x))\n",
    "  cat(\"GEOMETRIC DISTRIBUTION \\n\")\n",
    "  cat(\"The population estimate for geometric distribution is : p = \", p, \"\\n\")\n",
    "  cat(\"\\n\")\n",
    "  return(p)\n",
    "}\n",
    "\n",
    "# Poisson function\n",
    "poisson.mle <- function(x) {\n",
    "  lambda.val <- mean(x)\n",
    "  cat(\"POISSON DISTRIBUTION \\n\")\n",
    "  cat(\"The population estimate for poisson distribution is : \", lambda,\n",
    "      \" = \", lambda.val, \"\\n\")\n",
    "  cat(\"\\n\")\n",
    "  return(lambda.val)\n",
    "}\n",
    "\n",
    "# Uniform function\n",
    "uniform.mle <- function(x) {\n",
    "  a <- min(x)\n",
    "  b <- max(x)\n",
    "  cat(\"UNIFORM DISTRIBUTION \\n\")\n",
    "  cat(\"The population estimate for uniform distribution are : a = \", a,\n",
    "      \", b = \", b, \"\\n\")\n",
    "  cat(\"\\n\")\n",
    "  return(c(a,b))\n",
    "}\n",
    "\n",
    "# Normal function\n",
    "normal.mle <- function(x) {\n",
    "  mu.val <- mean(x)\n",
    "  sigma.val <- sum(((x - mean(x))^2))/length(x)\n",
    "  cat(\"NORMAL DISTRIBUTION \\n\")\n",
    "  cat(\"The population estimate for normal distribution are : \", mu, \" = \",\n",
    "      mu.val, \", \", sigma, \" = \", sigma.val, \"\\n\")\n",
    "  cat(\"\\n\")\n",
    "  return(c(mu.val,sigma.val))\n",
    "}\n",
    "\n",
    "# Exponential function\n",
    "exponential.mle <- function(x) {\n",
    "  beta.val <- mean(x)\n",
    "  cat(\"EXPONENTIAL DISTRIBUTION \\n\")\n",
    "  cat(\"The population estimate for exponential distribution is : \", beta,\n",
    "      \" = \", beta.val, \"\\n\")\n",
    "  cat(\"\\n\")\n",
    "  return(beta.val)\n",
    "}\n",
    "\n",
    "# Gamma function\n",
    "gamma.mle <- function(x) {\n",
    "  cat(\"GAMMA DISTRIBUTION \\n\")\n",
    "  mean.val <- mean(x)\n",
    "  s <- log(mean.val) - ((sum(log(x)))/length(x))\n",
    "  alpha.val <- (3 - s + sqrt( ((s-3)^2) + (24 * s) ))/(12 * s)\n",
    "  beta.val <- mean.val/alpha.val\n",
    "  cat(\"The population estimate for gamma distribution is : \", alpha, \" = \",\n",
    "      alpha.val, \", \", beta, \" = \", beta.val, \"\\n\")\n",
    "  cat(\"\\n\")\n",
    "  return(c(alpha.val,beta.val))\n",
    "}\n",
    "\n",
    "# Beta function\n",
    "beta.mle <- function(x) {\n",
    "  cat(\"BETA DISTRIBUTION \\n\")\n",
    "  iter = 100\n",
    "  # Initial values for alpha and beta are from the MOM estimator\n",
    "  x.mean <- mean(x)\n",
    "  x.var <- (sum(x * x))/length(x)\n",
    "  alpha.val <- ((x.mean ^ 2) - (x.mean * x.var))/(x.var - (x.mean ^ 2))\n",
    "  beta.val <- (alpha.val * (1 - x.mean))/(x.mean)\n",
    "  # Numerical approximation\n",
    "  final.val <- c(alpha.val, beta.val)\n",
    "  for (i in 1:100) {\n",
    "    g1 <- digamma(alpha.val) - digamma(alpha.val + beta.val)\n",
    "      - (sum(log(x))/length(x))\n",
    "    g2 <- digamma(beta.val) - digamma(alpha.val + beta.val)\n",
    "      - (sum(log(1-x))/length(x))\n",
    "    g.val <- c(g1, g2)\n",
    "    # Matrix G terms\n",
    "    term.11 <- trigamma(alpha.val) - trigamma(alpha.val + beta.val)\n",
    "    term.12 <- -trigamma(alpha.val + beta.val)\n",
    "    term.22 <- trigamma(beta.val) - trigamma(alpha.val + beta.val)\n",
    "    G <- matrix(c(term.11, term.12, term.12, term.22),\n",
    "                nrow = 2, ncol = 2, byrow = TRUE)\n",
    "    G.inv <- inv(G)\n",
    "    # Final values\n",
    "    final.val <- final.val - t(G.inv %*% g.val)\n",
    "    alpha.val <- final.val[1]\n",
    "    beta.val <- final.val[2]\n",
    "  }\n",
    "  cat(\"The population estimate for beta distribution is : \", alpha, \" = \",\n",
    "      alpha.val, \", \", beta, \" = \", beta.val, \"\\n\")\n",
    "  cat(\"\\n\")\n",
    "  return(c(c(alpha.val,beta.val)))\n",
    "}\n",
    "\n",
    "# Chisquare function\n",
    "chisquare.mle <- function(x) {\n",
    "  cat(\"CHISQUARE DISTRIBUTION \\n\")\n",
    "  # Intitial values for v from MOM estimator\n",
    "  p.tilda <- mean(x)\n",
    "  # Some approximation using second derivative\n",
    "  n <- length(x)\n",
    "  p.del.numerator <- (-n/gamma(p.tilda/2) * digamma(p.tilda/2))\n",
    "    - (((n * log(2)) + sum(log(x)))/2)\n",
    "  p.del.denominator <- (-n * trigamma(p.tilda/2)/4)\n",
    "  p.del <- p.del.numerator/p.del.denominator\n",
    "  # Not sure here\n",
    "  p.val <- (p.tilda + p.del)/2\n",
    "  cat(\"The population estimate for student-t distribution is : \n",
    "        p(degrees of freedom) = \", p.val, \"\\n\")\n",
    "  cat(\"\\n\")\n",
    "  return(p.val)\n",
    "}"
   ]
  },
  {
   "cell_type": "code",
   "execution_count": null,
   "metadata": {},
   "outputs": [],
   "source": [
    "# Enter distribution name\n",
    "cat(\"1. Bernoulli Distribution \\n\")\n",
    "cat(\"2. Binomial Distribution \\n\")\n",
    "cat(\"3. Geometric Distribution \\n\")\n",
    "cat(\"4. Poisson Distribution \\n\")\n",
    "cat(\"5. Uniform Distribution \\n\")\n",
    "cat(\"6. Normal Distribution \\n\")\n",
    "cat(\"7. Exponential Distribution \\n\")\n",
    "cat(\"8. Gamma Distribution \\n\")\n",
    "cat(\"9. Beta Distribution \\n\")\n",
    "cat(\"10. Chi-square Distribution \\n\")\n",
    "in.val <- as.integer(readline(prompt = \"Please select the distribution\n",
    "                    (Enter the number) \\n\"))"
   ]
  },
  {
   "cell_type": "code",
   "execution_count": null,
   "metadata": {},
   "outputs": [],
   "source": [
    "# Taking sample input data from the user or \n",
    "# asking user to input parameters to a R function\n",
    "cat(\"\\n Please select one option : \\n\")\n",
    "cat(\" 1. Enter data \\n\")\n",
    "cat(\" 2. Create data using function in R \\n\")\n",
    "in.val.2 <- as.integer(readline(prompt = \"Enter the number \\n\"))\n",
    "\n",
    "if(in.val.2 == 1) {\n",
    "  my.input <- readline(prompt \n",
    "                       = \"Please enter the sample data separated with commas \\n\")\n",
    "  x <- as.double(strsplit(my.input, \",\")[[1]])\n",
    "} else {\n",
    "  obs.input <- as.integer(readline(prompt \n",
    "                    = \"Please enter the number of observations(n) : \\n\"))\n",
    "  if(in.val == 1) {\n",
    "    value <- as.double(readline(prompt = \"Please enter the value of p : \\n\"))\n",
    "    x <- rbinom(obs.input, 1, value)\n",
    "  }\n",
    "  else if(in.val == 2) {\n",
    "    value <- as.double(readline(prompt = \"Please enter the value of p : \\n\"))\n",
    "    value2 <- as.double(readline(prompt = \"Please enter the value of n : \\n\"))\n",
    "    x <- rbinom(obs.input,n = value2,prob = value)\n",
    "  }\n",
    "  else if(in.val == 3) {\n",
    "    value <- as.double(readline(prompt = \"Please enter the value of p : \\n\"))\n",
    "    x <- rgeom(obs.input, value)\n",
    "  }\n",
    "  else if(in.val == 4) {\n",
    "    value <- as.double(readline(prompt = \"Please enter the value of lambda : \\n\"))\n",
    "    x <- rpois(obs.input, value)\n",
    "  }\n",
    "  else if(in.val == 5) {\n",
    "    value <- as.double(readline(prompt = \"Please enter the value of a : \\n\"))\n",
    "    value2 <- as.double(readline(prompt = \"Please enter the value of b : \\n\"))\n",
    "    x <- runif(obs.input, value, value2)\n",
    "  }\n",
    "  else if(in.val == 6) {\n",
    "    value <- as.double(readline(prompt = \"Please enter the value of mu : \\n\"))\n",
    "    value <- as.double(readline(prompt = \"Please enter the value of sigma^2 : \\n\"))\n",
    "    x <- rnorm(obs.input, value, value2)\n",
    "  }\n",
    "  else if(in.val == 7) {\n",
    "    value <- as.double(readline(prompt = \"Please enter the value of beta : \\n\"))\n",
    "    x <- rexp(obs.input, value)\n",
    "  }\n",
    "  else if(in.val == 8) {\n",
    "    value <- as.double(readline(prompt = \"Please enter the value of alpha : \\n\"))\n",
    "    value <- as.double(readline(prompt = \"Please enter the value of beta : \\n\"))\n",
    "    x <- rgamma(obs.input,shape = value, scale =value2)\n",
    "  }\n",
    "  else if(in.val == 9) {\n",
    "    value <- as.double(readline(prompt = \"Please enter the value of alpha : \\n\"))\n",
    "    value <- as.double(readline(prompt = \"Please enter the value of beta : \\n\"))\n",
    "    x <- rbeta(obs.input,shape1 = value, shape2 = value2)\n",
    "  }\n",
    "  else if(in.val == 10) {\n",
    "    value <- as.double(readline(prompt = \"Please enter the value of p : \\n\"))\n",
    "    x <- rchisq(obs.input, value)\n",
    "  }\n",
    "}"
   ]
  },
  {
   "cell_type": "code",
   "execution_count": 42,
   "metadata": {},
   "outputs": [
    {
     "name": "stdout",
     "output_type": "stream",
     "text": [
      "CHISQUARE DISTRIBUTION \n",
      "The population estimate for student-t distribution is : p(degrees of freedom) =  8.915059 \n",
      "\n"
     ]
    },
    {
     "data": {
      "text/html": [
       "8.9150594891422"
      ],
      "text/latex": [
       "8.9150594891422"
      ],
      "text/markdown": [
       "8.9150594891422"
      ],
      "text/plain": [
       "[1] 8.915059"
      ]
     },
     "metadata": {},
     "output_type": "display_data"
    }
   ],
   "source": [
    "# MLE based on input given by the user\n",
    "if (in.val == 1) {\n",
    "  bernoulli.mle(x)\n",
    "} else if (in.val == 2) {\n",
    "  binomial.mle(x)\n",
    "} else if (in.val == 3) {\n",
    "  geometric.mle(x)\n",
    "} else if (in.val == 4) {\n",
    "  poisson.mle(x)\n",
    "} else if (in.val == 5) {\n",
    "  uniform.mle(x)\n",
    "} else if (in.val == 6) {\n",
    "  normal.mle(x)\n",
    "} else if (in.val == 7) {\n",
    "  exponential.mle(x)\n",
    "} else if (in.val == 8) {\n",
    "  gamma.mle(x)\n",
    "} else if (in.val == 9) {\n",
    "  beta.mle(x)\n",
    "} else if (in.val == 10) {\n",
    "  chisquare.mle(x)\n",
    "}"
   ]
  },
  {
   "cell_type": "markdown",
   "metadata": {},
   "source": [
    "### Parametric bootstrap with KS Test"
   ]
  },
  {
   "cell_type": "code",
   "execution_count": 43,
   "metadata": {},
   "outputs": [],
   "source": [
    "# Function for parametric bootstrap with ks test\n",
    "#************************************************#\n",
    "#nboot = number of iterations for bootstrap#\n",
    "#val = value of parameter 1#\n",
    "#val2 = value of parameter 2#\n",
    "#n = number of observations for the distribution#\n",
    "#in.val.n = distribution selected by the user#\n",
    "#************************************************#\n",
    "ks.test.bootstrap.mle <- function(nboot = 10000, val, val2 = 0, n = 10000, in.val.n) \n",
    "{\n",
    "  D.vec <- NULL\n",
    "  if (in.val.n == 1) {\n",
    "    func.mle <- bernoulli.mle\n",
    "    func <- rbinom\n",
    "    term <- \"rbinom\"\n",
    "  } else if (in.val.n == 2) {\n",
    "    func.mle <- binomial.mle\n",
    "    func <- rbinom\n",
    "    term <- \"rbinom\"\n",
    "  } else if (in.val.n == 3) {\n",
    "    func.mle <- geometric.mle\n",
    "    func <- rgeom\n",
    "    term <- \"rgeom\"\n",
    "  } else if (in.val.n == 4) {\n",
    "    func.mle <- poisson.mle\n",
    "    func <- rpois\n",
    "    term <- \"rpois\"\n",
    "  } else if (in.val.n == 5) {\n",
    "    func.mle <- uniform.mle\n",
    "    func <- runif\n",
    "    term <- \"runif\"\n",
    "  } else if (in.val.n == 6) {\n",
    "    func.mle <- normal.mle\n",
    "    func <- rnorm\n",
    "    term <- \"rnorm\"\n",
    "  } else if (in.val.n == 7) {\n",
    "    func.mle <- exponential.mle\n",
    "    func <- rexp\n",
    "    term <- \"rexp\"\n",
    "  } else if (in.val.n == 8) {\n",
    "    func.mle <- gamma.mle\n",
    "    func <- rgamma\n",
    "    term <- \"rgamma\"\n",
    "  } else if (in.val.n == 9) {\n",
    "    func.mle <- beta.mle\n",
    "    func <- rbeta\n",
    "    term <- \"rbeta\"\n",
    "  } else if (in.val.n == 10) {\n",
    "    func.mle <- chisquare.mle\n",
    "    func <- rchisq\n",
    "    term <- \"rchisq\"\n",
    "  }\n",
    "  for(i in 1:nboot) {\n",
    "    if (in.val.n == 3 | in.val.n == 4 | in.val.n == 7 | in.val.n == 10) {\n",
    "      vecb <- func(n, val)\n",
    "      est.val <- func.mle(vecb)\n",
    "      D.vec <- c(D.vec, unname(ks.test(vecb, term, est.val)$statistic))\n",
    "    } else {\n",
    "      if (in.val.n == 1) {val = 1}\n",
    "      vecb <- func(n, val, val2) \n",
    "      est.val <- func.mle(vecb)\n",
    "      if (in.val.n == 1) {\n",
    "        est.val[2] = est.val[1]\n",
    "        est.val[1] = 1}\n",
    "      D.vec <- c(D.vec, unname(ks.test(vecb, term,\n",
    "                                       est.val[1], est.val[2])$statistic))\n",
    "    }\n",
    "  }\n",
    "  list(D.values = D.vec)\n",
    "}"
   ]
  },
  {
   "cell_type": "code",
   "execution_count": 73,
   "metadata": {
    "scrolled": true
   },
   "outputs": [
    {
     "name": "stdout",
     "output_type": "stream",
     "text": [
      "1. Bernoulli Distribution \n",
      "2. Binomial Distribution \n",
      "3. Geometric Distribution \n",
      "4. Poisson Distribution \n",
      "5. Uniform Distribution \n",
      "6. Normal Distribution \n",
      "7. Exponential Distribution \n",
      "8. Gamma Distribution \n",
      "9. Beta Distribution \n",
      "10. Chi-square Distribution \n",
      "Please select the distribution (Enter the number) \n",
      "10\n"
     ]
    }
   ],
   "source": [
    "# Enter distribution name for which goodness of fit test has to be done\n",
    "cat(\"1. Bernoulli Distribution \\n\")\n",
    "cat(\"2. Binomial Distribution \\n\")\n",
    "cat(\"3. Geometric Distribution \\n\")\n",
    "cat(\"4. Poisson Distribution \\n\")\n",
    "cat(\"5. Uniform Distribution \\n\")\n",
    "cat(\"6. Normal Distribution \\n\")\n",
    "cat(\"7. Exponential Distribution \\n\")\n",
    "cat(\"8. Gamma Distribution \\n\")\n",
    "cat(\"9. Beta Distribution \\n\")\n",
    "cat(\"10. Chi-square Distribution \\n\")\n",
    "in.val.bootstrap <- as.integer(readline(prompt =\n",
    "                \"Please select the distribution (Enter the number) \\n\"))"
   ]
  },
  {
   "cell_type": "code",
   "execution_count": null,
   "metadata": {},
   "outputs": [],
   "source": [
    "# D value or the statistic from the the function written earlier\n",
    "#************************************************#\n",
    "#nboot = number of iterations for bootstrap#\n",
    "#val = value of parameter 1#\n",
    "#val2 = value of parameter 2#\n",
    "#n = number of observations for the distribution#\n",
    "#in.val.n = distribution selected by the user#\n",
    "#************************************************#\n",
    "d.values <- as.numeric(unlist(ks.test.bootstrap.mle(nboot = 10000,\n",
    "                            val = 6,val2 = 0.6, n = 1000, in.val.bootstrap)))"
   ]
  },
  {
   "cell_type": "code",
   "execution_count": 75,
   "metadata": {},
   "outputs": [
    {
     "data": {
      "image/png": "[encoded data removed]",
      "text/plain": [
       "Plot with title \"Histogram of d.values\""
      ]
     },
     "metadata": {},
     "output_type": "display_data"
    }
   ],
   "source": [
    "# Plot the histogram of the d values\n",
    "hist(d.values)"
   ]
  },
  {
   "cell_type": "markdown",
   "metadata": {},
   "source": [
    "### Observations"
   ]
  },
  {
   "cell_type": "markdown",
   "metadata": {},
   "source": [
    "In case of Binomial distribution and Chi-square distribution the d-values observed are high. This is because the MLE estimates observed is seen to be really high. For other distributions we observe low values of the statistic from the ks.test function."
   ]
  }
 ],
 "metadata": {
  "kernelspec": {
   "display_name": "R",
   "language": "R",
   "name": "ir"
  },
  "language_info": {
   "codemirror_mode": "r",
   "file_extension": ".r",
   "mimetype": "text/x-r-source",
   "name": "R",
   "pygments_lexer": "r",
   "version": "3.5.1"
  }
 },
 "nbformat": 4,
 "nbformat_minor": 2
}
