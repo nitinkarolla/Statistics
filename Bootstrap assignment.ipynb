{
 "cells": [
  {
   "cell_type": "markdown",
   "metadata": {},
   "source": [
    "## Assignment 3\n",
    "By Nitin Reddy and Siddharth Sundararajan"
   ]
  },
  {
   "cell_type": "code",
   "execution_count": 19,
   "metadata": {},
   "outputs": [],
   "source": [
    "# Jackknife function\n",
    "Jackknife<-function(v1,statfunc=sd, alpha = 0.05)\n",
    "{\n",
    "  n1<-length(v1)\n",
    "  jackvec<-NULL\n",
    "  mu0<-statfunc(v1)\n",
    "  for(i in 1:n1){\n",
    "    mua<-statfunc(v1[-i])\n",
    "    jackvec<-c(jackvec, n1*(mu0)-(n1-1)*mua)\n",
    "  }\n",
    "  jackbias<-mean(jackvec)-mu0\n",
    "  jacksd<-sd(jackvec)\n",
    "  JLB<-mean(jackvec)-(jacksd/sqrt(n1))*qnorm(1-alpha/2)\n",
    "  JUB<-mean(jackvec)+(jacksd/sqrt(n1))*qnorm(1-alpha/2)\n",
    "  list(mu0=mu0,jackbias=jackbias,jacksd=jacksd, \n",
    "       jackknife.confidence.interval = c(JLB, JUB))\n",
    "}"
   ]
  },
  {
   "cell_type": "code",
   "execution_count": 2,
   "metadata": {
    "scrolled": true
   },
   "outputs": [
    {
     "data": {
      "text/html": [
       "<dl>\n",
       "\t<dt>$mu0</dt>\n",
       "\t\t<dd>500.5</dd>\n",
       "\t<dt>$jackbias</dt>\n",
       "\t\t<dd>0</dd>\n",
       "\t<dt>$jacksd</dt>\n",
       "\t\t<dd>288.819436095749</dd>\n",
       "\t<dt>$jackknife.confidence.interval</dt>\n",
       "\t\t<dd><ol class=list-inline>\n",
       "\t<li>482.599114827485</li>\n",
       "\t<li>518.400885172515</li>\n",
       "</ol>\n",
       "</dd>\n",
       "</dl>\n"
      ],
      "text/latex": [
       "\\begin{description}\n",
       "\\item[\\$mu0] 500.5\n",
       "\\item[\\$jackbias] 0\n",
       "\\item[\\$jacksd] 288.819436095749\n",
       "\\item[\\$jackknife.confidence.interval] \\begin{enumerate*}\n",
       "\\item 482.599114827485\n",
       "\\item 518.400885172515\n",
       "\\end{enumerate*}\n",
       "\n",
       "\\end{description}\n"
      ],
      "text/markdown": [
       "$mu0\n",
       ":   500.5\n",
       "$jackbias\n",
       ":   0\n",
       "$jacksd\n",
       ":   288.819436095749\n",
       "$jackknife.confidence.interval\n",
       ":   1. 482.599114827485\n",
       "2. 518.400885172515\n",
       "\n",
       "\n",
       "\n",
       "\n",
       "\n"
      ],
      "text/plain": [
       "$mu0\n",
       "[1] 500.5\n",
       "\n",
       "$jackbias\n",
       "[1] 0\n",
       "\n",
       "$jacksd\n",
       "[1] 288.8194\n",
       "\n",
       "$jackknife.confidence.interval\n",
       "[1] 482.5991 518.4009\n"
      ]
     },
     "metadata": {},
     "output_type": "display_data"
    }
   ],
   "source": [
    "Jackknife(1:1000, statfunc = mean)"
   ]
  },
  {
   "cell_type": "markdown",
   "metadata": {},
   "source": [
    "#### Observations\n",
    "We observe that the bias is zero. This happens because the statistic we are building the estimator for the mean."
   ]
  },
  {
   "cell_type": "code",
   "execution_count": 3,
   "metadata": {},
   "outputs": [],
   "source": [
    "# Bootstrap function\n",
    "my.bootstrapci.ml<-function(vec0,nboot=10000,alpha=0.05)\n",
    "{\n",
    "  #extract sample size, mean and standard deviation from the \n",
    "  #original data\n",
    "  n0<-length(vec0)\n",
    "  mean0<-mean(vec0)\n",
    "  sd0<-sqrt(var(vec0))\n",
    "  #create a vector to store the location of the bootstrap \n",
    "  #studentized deviation vector\n",
    "  bootvec<-NULL\n",
    "  bootbiasvec<-NULL\n",
    "  #create the bootstrap distribution using a for loop\n",
    "  for( i in 1:nboot){\n",
    "    vecb<-sample(vec0,replace=T)\n",
    "    #create mean and standard deviation to studentize\n",
    "    meanb<-mean(vecb)\n",
    "    sdb<-sqrt(var(vecb))\n",
    "    #note since resampling full vector we can use n0 for sample size of vecb\n",
    "    bootvec<-c(bootvec,(meanb-mean0)/(sdb/sqrt(n0)))\n",
    "    #Calculation the vector that stores the bias of each bootstap sample\n",
    "    bootbiasvec <- c(bootbiasvec, meanb-mean0)\n",
    "  }\n",
    "  \n",
    "  bootbias <- mean(bootbiasvec)  \n",
    "  bootsd <- mean(bootvec) #***************** Not sure about this ****************#\n",
    "  #Calculate lower and upper quantile of the bootstrap distribution\n",
    "  lq<-quantile(bootvec,alpha/2)\n",
    "  uq<-quantile(bootvec,1-alpha/2)\n",
    "  #incorporate into the bootstrap confidence interval (what algebra supports this?)\n",
    "  #and output result\n",
    "  LB<-mean0-(sd0/sqrt(n0))*uq[[1]]\n",
    "  UB<-mean0-(sd0/sqrt(n0))*lq[[1]]\n",
    "  #since I have the mean and standard deviation calculate the \n",
    "  #normal confidence interval here as well\n",
    "  NLB<-mean0-(sd0/sqrt(n0))*qnorm(1-alpha/2)\n",
    "  NUB<-mean0+(sd0/sqrt(n0))*qnorm(1-alpha/2)\n",
    "  list(bootbias = bootbias, bootsd = bootsd, bootstrap.confidence.interval=c(LB,UB)\n",
    "       ,normal.confidence.interval=c(NLB,NUB))\n",
    "}"
   ]
  },
  {
   "cell_type": "code",
   "execution_count": 4,
   "metadata": {},
   "outputs": [
    {
     "data": {
      "text/html": [
       "<dl>\n",
       "\t<dt>$bootbias</dt>\n",
       "\t\t<dd>0.0665394999999999</dd>\n",
       "\t<dt>$bootsd</dt>\n",
       "\t\t<dd>0.00724731581752771</dd>\n",
       "\t<dt>$bootstrap.confidence.interval</dt>\n",
       "\t\t<dd><ol class=list-inline>\n",
       "\t<li>482.192992705963</li>\n",
       "\t<li>517.934622763378</li>\n",
       "</ol>\n",
       "</dd>\n",
       "\t<dt>$normal.confidence.interval</dt>\n",
       "\t\t<dd><ol class=list-inline>\n",
       "\t<li>482.599114827485</li>\n",
       "\t<li>518.400885172515</li>\n",
       "</ol>\n",
       "</dd>\n",
       "</dl>\n"
      ],
      "text/latex": [
       "\\begin{description}\n",
       "\\item[\\$bootbias] 0.0665394999999999\n",
       "\\item[\\$bootsd] 0.00724731581752771\n",
       "\\item[\\$bootstrap.confidence.interval] \\begin{enumerate*}\n",
       "\\item 482.192992705963\n",
       "\\item 517.934622763378\n",
       "\\end{enumerate*}\n",
       "\n",
       "\\item[\\$normal.confidence.interval] \\begin{enumerate*}\n",
       "\\item 482.599114827485\n",
       "\\item 518.400885172515\n",
       "\\end{enumerate*}\n",
       "\n",
       "\\end{description}\n"
      ],
      "text/markdown": [
       "$bootbias\n",
       ":   0.0665394999999999\n",
       "$bootsd\n",
       ":   0.00724731581752771\n",
       "$bootstrap.confidence.interval\n",
       ":   1. 482.192992705963\n",
       "2. 517.934622763378\n",
       "\n",
       "\n",
       "\n",
       "$normal.confidence.interval\n",
       ":   1. 482.599114827485\n",
       "2. 518.400885172515\n",
       "\n",
       "\n",
       "\n",
       "\n",
       "\n"
      ],
      "text/plain": [
       "$bootbias\n",
       "[1] 0.0665395\n",
       "\n",
       "$bootsd\n",
       "[1] 0.007247316\n",
       "\n",
       "$bootstrap.confidence.interval\n",
       "[1] 482.1930 517.9346\n",
       "\n",
       "$normal.confidence.interval\n",
       "[1] 482.5991 518.4009\n"
      ]
     },
     "metadata": {},
     "output_type": "display_data"
    }
   ],
   "source": [
    "my.bootstrapci.ml(1:1000)"
   ]
  },
  {
   "cell_type": "markdown",
   "metadata": {},
   "source": [
    "#### Observations\n",
    "It is seen that the normal based confidence interval is same as the Jackknife based confidence interval. This reason was seen above. The pivotal based confidence interval is observed to be around the normal based confidence interval but comparitively closer in this case. "
   ]
  },
  {
   "cell_type": "code",
   "execution_count": 5,
   "metadata": {},
   "outputs": [],
   "source": [
    "# Simulation function\n",
    "simulation <- function(mu.val=3, n=30, nsim=1000)\n",
    "{\n",
    "  #create coverage indicator vectors for bootstrap and normal\n",
    "  cvec.boot<-NULL\n",
    "  cvec.norm<-NULL\n",
    "  cvec.jack<-NULL\n",
    "  #calculate real mean\n",
    "  mulnorm<-(exp(mu.val+1/2))\n",
    "  #run simulation\n",
    "  for(i in 1:nsim){\n",
    "    if((i/100)==floor(i/100)){\n",
    "      print(i)\n",
    "      #let me know computer hasnt died\n",
    "    }\n",
    "    #sample the simulation vector\n",
    "    vec.sample<-rlnorm(n,mu.val)\n",
    "    #bootstrap it\n",
    "    boot.list<-my.bootstrapci.ml(vec.sample)\n",
    "    #jackknife it\n",
    "    jack.list <- Jackknife(vec.sample, statfunc=mean, alpha = 0.05)\n",
    "    #fetch confidence intervals\n",
    "    boot.conf<-boot.list$bootstrap.confidence.interval\n",
    "    jack.conf<-jack.list$jackknife.confidence.interval\n",
    "    norm.conf<-boot.list$normal.confidence.interval\n",
    "    \n",
    "    #calculate if confidence intervals include mu\n",
    "    #count up the coverage by the bootstrap interval\n",
    "    cvec.boot<-c(cvec.boot,(boot.conf[1]<mulnorm)*(boot.conf[2]>mulnorm))\n",
    "    #count up the coverage by the jackknife interval\n",
    "    cvec.jack<-c(cvec.jack,(jack.conf[1]<mulnorm)*(jack.conf[2]>mulnorm))\n",
    "    #count up the coverage by the normal theory interval\n",
    "    cvec.norm<-c(cvec.norm,(norm.conf[1]<mulnorm)*(norm.conf[2]>mulnorm))\n",
    "  }\n",
    "  #calculate and output coverage probability estimates\n",
    "  list(boot.coverage=(sum(cvec.boot)/nsim), jack.coverage=(sum(cvec.jack)/nsim),\n",
    "       norm.coverage=(sum(cvec.norm)/nsim))\n",
    "}"
   ]
  },
  {
   "cell_type": "code",
   "execution_count": 6,
   "metadata": {},
   "outputs": [
    {
     "name": "stdout",
     "output_type": "stream",
     "text": [
      "[1] 100\n",
      "[1] 200\n",
      "[1] 300\n",
      "[1] 400\n",
      "[1] 500\n",
      "[1] 600\n",
      "[1] 700\n",
      "[1] 800\n",
      "[1] 900\n",
      "[1] 1000\n"
     ]
    },
    {
     "data": {
      "text/html": [
       "<dl>\n",
       "\t<dt>$boot.coverage</dt>\n",
       "\t\t<dd>0.912</dd>\n",
       "\t<dt>$jack.coverage</dt>\n",
       "\t\t<dd>0.801</dd>\n",
       "\t<dt>$norm.coverage</dt>\n",
       "\t\t<dd>0.801</dd>\n",
       "</dl>\n"
      ],
      "text/latex": [
       "\\begin{description}\n",
       "\\item[\\$boot.coverage] 0.912\n",
       "\\item[\\$jack.coverage] 0.801\n",
       "\\item[\\$norm.coverage] 0.801\n",
       "\\end{description}\n"
      ],
      "text/markdown": [
       "$boot.coverage\n",
       ":   0.912\n",
       "$jack.coverage\n",
       ":   0.801\n",
       "$norm.coverage\n",
       ":   0.801\n",
       "\n",
       "\n"
      ],
      "text/plain": [
       "$boot.coverage\n",
       "[1] 0.912\n",
       "\n",
       "$jack.coverage\n",
       "[1] 0.801\n",
       "\n",
       "$norm.coverage\n",
       "[1] 0.801\n"
      ]
     },
     "metadata": {},
     "output_type": "display_data"
    }
   ],
   "source": [
    "simulation(mu.val = 4, n = 10, nsim = 1000)"
   ]
  },
  {
   "cell_type": "code",
   "execution_count": 7,
   "metadata": {},
   "outputs": [
    {
     "name": "stdout",
     "output_type": "stream",
     "text": [
      "[1] 100\n",
      "[1] 200\n",
      "[1] 300\n",
      "[1] 400\n",
      "[1] 500\n",
      "[1] 600\n",
      "[1] 700\n",
      "[1] 800\n",
      "[1] 900\n",
      "[1] 1000\n"
     ]
    },
    {
     "data": {
      "text/html": [
       "<dl>\n",
       "\t<dt>$boot.coverage</dt>\n",
       "\t\t<dd>0.909</dd>\n",
       "\t<dt>$jack.coverage</dt>\n",
       "\t\t<dd>0.861</dd>\n",
       "\t<dt>$norm.coverage</dt>\n",
       "\t\t<dd>0.861</dd>\n",
       "</dl>\n"
      ],
      "text/latex": [
       "\\begin{description}\n",
       "\\item[\\$boot.coverage] 0.909\n",
       "\\item[\\$jack.coverage] 0.861\n",
       "\\item[\\$norm.coverage] 0.861\n",
       "\\end{description}\n"
      ],
      "text/markdown": [
       "$boot.coverage\n",
       ":   0.909\n",
       "$jack.coverage\n",
       ":   0.861\n",
       "$norm.coverage\n",
       ":   0.861\n",
       "\n",
       "\n"
      ],
      "text/plain": [
       "$boot.coverage\n",
       "[1] 0.909\n",
       "\n",
       "$jack.coverage\n",
       "[1] 0.861\n",
       "\n",
       "$norm.coverage\n",
       "[1] 0.861\n"
      ]
     },
     "metadata": {},
     "output_type": "display_data"
    }
   ],
   "source": [
    "simulation(mu.val = 4, n = 30, nsim = 1000)"
   ]
  },
  {
   "cell_type": "code",
   "execution_count": 8,
   "metadata": {},
   "outputs": [
    {
     "name": "stdout",
     "output_type": "stream",
     "text": [
      "[1] 100\n",
      "[1] 200\n",
      "[1] 300\n",
      "[1] 400\n",
      "[1] 500\n",
      "[1] 600\n",
      "[1] 700\n",
      "[1] 800\n",
      "[1] 900\n",
      "[1] 1000\n"
     ]
    },
    {
     "data": {
      "text/html": [
       "<dl>\n",
       "\t<dt>$boot.coverage</dt>\n",
       "\t\t<dd>0.949</dd>\n",
       "\t<dt>$jack.coverage</dt>\n",
       "\t\t<dd>0.92</dd>\n",
       "\t<dt>$norm.coverage</dt>\n",
       "\t\t<dd>0.92</dd>\n",
       "</dl>\n"
      ],
      "text/latex": [
       "\\begin{description}\n",
       "\\item[\\$boot.coverage] 0.949\n",
       "\\item[\\$jack.coverage] 0.92\n",
       "\\item[\\$norm.coverage] 0.92\n",
       "\\end{description}\n"
      ],
      "text/markdown": [
       "$boot.coverage\n",
       ":   0.949\n",
       "$jack.coverage\n",
       ":   0.92\n",
       "$norm.coverage\n",
       ":   0.92\n",
       "\n",
       "\n"
      ],
      "text/plain": [
       "$boot.coverage\n",
       "[1] 0.949\n",
       "\n",
       "$jack.coverage\n",
       "[1] 0.92\n",
       "\n",
       "$norm.coverage\n",
       "[1] 0.92\n"
      ]
     },
     "metadata": {},
     "output_type": "display_data"
    }
   ],
   "source": [
    "simulation(mu.val = 4, n = 100, nsim = 1000)"
   ]
  },
  {
   "cell_type": "markdown",
   "metadata": {},
   "source": [
    "#### Observations\n",
    "It is observed that as you increase the sample size the coverage rate improves. A significant increase is observed when n is increased from 30 to 100."
   ]
  },
  {
   "attachments": {},
   "cell_type": "markdown",
   "metadata": {},
   "source": [
    "#### Question 4\n",
    "For the standard deviation of the normal distribution, estimate the bias of the the sample standard deviation when dividing by n, compare the bootstrap and the jacknife (1000 simulations)."
   ]
  },
  {
   "cell_type": "code",
   "execution_count": 9,
   "metadata": {},
   "outputs": [],
   "source": [
    "# Jackknife function for part 4\n",
    "Jackknife_sd<-function(v1){\n",
    "      n1<-length(v1)\n",
    "      jackvec<-NULL\n",
    "      mu0<-sd(v1)/n1\n",
    "      for(i in 1:n1){\n",
    "        mua<-sd(v1[-i])/(n1-1)\n",
    "        jackvec<-c(jackvec, n1*(mu0)-(n1-1)*mua)\n",
    "          }\n",
    "      jackbias<-mean(jackvec)-mu0\n",
    "      return (jackbias)\n",
    "  } "
   ]
  },
  {
   "cell_type": "code",
   "execution_count": 10,
   "metadata": {},
   "outputs": [],
   "source": [
    "# Bootstrap function for part 4\n",
    "bootstrap_sd<-function(vec0,nboot=10000){\n",
    "      #extract sample size, mean and standard deviation from the original data\n",
    "      n<-length(vec0)\n",
    "      mean0<-sd(vec0)/n\n",
    "      bootvec<-NULL\n",
    "      bootbiasvec<-NULL\n",
    "      #create the bootstrap distribution using a for loop\n",
    "      for( i in 1:nboot){\n",
    "        vecb<-sample(vec0,replace=T)\n",
    "        #create mean and standard deviation to studentize\n",
    "        meanb<-sd(vecb)/n\n",
    "        #note since resampling full vector we can use n0 for sample size of vecb\n",
    "        bootvec<-c(bootvec,meanb)\n",
    "        #Calculation the vector that stores the bias of each bootstap sample\n",
    "        bootbiasvec <- c(bootbiasvec, meanb-mean0)\n",
    "          }\n",
    "      return(mean(bootbiasvec))  \n",
    "\n",
    "    }  "
   ]
  },
  {
   "cell_type": "code",
   "execution_count": 11,
   "metadata": {},
   "outputs": [],
   "source": [
    "# Simulation function for part 4\n",
    "simulation_q4 <- function(mu=3, sd= 2, n=30 , nsim=4)\n",
    "{\n",
    "  #create coverage indicator vectors for bootstrap and normal\n",
    "  bvec.boot<-NULL\n",
    "  bvec.jack<-NULL\n",
    "    \n",
    "  #run simulation\n",
    "  for(i in 1:nsim){\n",
    "        if((i/100)==floor(i/100)){\n",
    "          print(i)\n",
    "        #let me know computer hasnt died\n",
    "        }\n",
    "        #sample the simulation vector\n",
    "        vec.sample<-rnorm(n,mean = mu, sd = sd)\n",
    "        #bootstrap bias\n",
    "        bvec.boot<- c(bvec.boot, bootstrap_sd(vec.sample))\n",
    "        #jackknife bias\n",
    "        bvec.jack <- c(bvec.jack, Jackknife_sd(vec.sample))\n",
    "          }\n",
    "  #return\n",
    "  list(boot_bias = bvec.boot, jack_bias = bvec.jack)  \n",
    "  \n",
    "}"
   ]
  },
  {
   "cell_type": "code",
   "execution_count": 12,
   "metadata": {},
   "outputs": [
    {
     "name": "stdout",
     "output_type": "stream",
     "text": [
      "[1] 100\n",
      "[1] 200\n",
      "[1] 300\n",
      "[1] 400\n",
      "[1] 500\n",
      "[1] 600\n",
      "[1] 700\n",
      "[1] 800\n",
      "[1] 900\n",
      "[1] 1000\n"
     ]
    }
   ],
   "source": [
    "Output_4 <- simulation_q4(mu=3, sd= 2, n=30 , nsim=1000)"
   ]
  },
  {
   "cell_type": "code",
   "execution_count": 15,
   "metadata": {},
   "outputs": [
    {
     "data": {
      "image/png": "[encoded data removed]",
      "text/plain": [
       "Plot with title \"Histogram of Output_4$boot_bias\""
      ]
     },
     "metadata": {},
     "output_type": "display_data"
    }
   ],
   "source": [
    "hist(Output_4$boot_bias)"
   ]
  },
  {
   "cell_type": "code",
   "execution_count": 16,
   "metadata": {},
   "outputs": [
    {
     "data": {
      "image/png": "[encoded data removed]",
      "text/plain": [
       "Plot with title \"Histogram of Output_4$jack_bias\""
      ]
     },
     "metadata": {},
     "output_type": "display_data"
    }
   ],
   "source": [
    "hist(Output_4$jack_bias)"
   ]
  },
  {
   "cell_type": "markdown",
   "metadata": {},
   "source": [
    "#### Observations\n",
    "It is observed that the bias from the jackknife is approximately normally distributed. Similarly, the bias from the bootstrap is also approximately normally distributed but is skewed to the left."
   ]
  }
 ],
 "metadata": {
  "kernelspec": {
   "display_name": "R",
   "language": "R",
   "name": "ir"
  },
  "language_info": {
   "codemirror_mode": "r",
   "file_extension": ".r",
   "mimetype": "text/x-r-source",
   "name": "R",
   "pygments_lexer": "r",
   "version": "3.5.1"
  }
 },
 "nbformat": 4,
 "nbformat_minor": 2
}
