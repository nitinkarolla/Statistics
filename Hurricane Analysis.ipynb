{
 "cells": [
  {
   "cell_type": "markdown",
   "metadata": {},
   "source": [
    "# Hurricane Data Analysis"
   ]
  },
  {
   "cell_type": "markdown",
   "metadata": {},
   "source": [
    "###  Fetching the data and cleaning:\n",
    "\n",
    "First, the data of the category 4 and category 5 hurricane present in the tabular form in Wikipedia is extracted, cleaned and stored in the data frame format. <br/>\n",
    "\n",
    "Category 4 - https://en.wikipedia.org/wiki/List_of_Category_4_Atlantic_hurricanes\n",
    "\n",
    "Category 5 - https://en.wikipedia.org/wiki/List_of_Category_5_Atlantic_hurricanes\n",
    "\n",
    "After few preliminary formatting and cleaning, data is now ready for some Analysis.<br/>\n",
    "\n",
    "Code for extracting the data, cleaning and formatting can be found below - \n"
   ]
  },
  {
   "cell_type": "code",
   "execution_count": 1,
   "metadata": {},
   "outputs": [
    {
     "name": "stderr",
     "output_type": "stream",
     "text": [
      "Loading required package: xml2\n",
      "\n",
      "Attaching package: 'dplyr'\n",
      "\n",
      "The following objects are masked from 'package:data.table':\n",
      "\n",
      "    between, first, last\n",
      "\n",
      "The following objects are masked from 'package:stats':\n",
      "\n",
      "    filter, lag\n",
      "\n",
      "The following objects are masked from 'package:base':\n",
      "\n",
      "    intersect, setdiff, setequal, union\n",
      "\n",
      "Loading required package: MASS\n",
      "\n",
      "Attaching package: 'MASS'\n",
      "\n",
      "The following object is masked from 'package:dplyr':\n",
      "\n",
      "    select\n",
      "\n",
      "Loading required package: survival\n",
      "Loading required package: npsurv\n",
      "Loading required package: lsei\n",
      "-- Attaching packages --------------------------------------- tidyverse 1.2.1 --\n",
      "v ggplot2 3.0.0     v readr   1.1.1\n",
      "v tibble  1.4.2     v purrr   0.2.5\n",
      "v tidyr   0.8.1     v stringr 1.3.1\n",
      "v ggplot2 3.0.0     v forcats 0.3.0\n",
      "-- Conflicts ------------------------------------------ tidyverse_conflicts() --\n",
      "x dplyr::between()        masks data.table::between()\n",
      "x dplyr::filter()         masks stats::filter()\n",
      "x dplyr::first()          masks data.table::first()\n",
      "x readr::guess_encoding() masks rvest::guess_encoding()\n",
      "x dplyr::lag()            masks stats::lag()\n",
      "x dplyr::last()           masks data.table::last()\n",
      "x purrr::pluck()          masks rvest::pluck()\n",
      "x MASS::select()          masks dplyr::select()\n",
      "x purrr::transpose()      masks data.table::transpose()\n"
     ]
    }
   ],
   "source": [
    "# Loading the libraries\n",
    "library(rvest)\n",
    "library(data.table)\n",
    "library(dplyr)\n",
    "library(fitdistrplus)\n",
    "#library(plyr)\n",
    "library(tidyverse)"
   ]
  },
  {
   "cell_type": "code",
   "execution_count": 2,
   "metadata": {},
   "outputs": [
    {
     "name": "stderr",
     "output_type": "stream",
     "text": [
      "Warning message:\n",
      "\"'html' is deprecated.\n",
      "Use 'read_html' instead.\n",
      "See help(\"Deprecated\")\"Warning message:\n",
      "\"'html' is deprecated.\n",
      "Use 'read_html' instead.\n",
      "See help(\"Deprecated\")\""
     ]
    }
   ],
   "source": [
    "#Fetching the Category 5\n",
    "scotusURL <- \"https://en.wikipedia.org/wiki/List_of_Category_5_Atlantic_hurricanes\"\n",
    "\n",
    "temp <- scotusURL %>% \n",
    "  html %>%\n",
    "  html_nodes(\"table\")\n",
    "\n",
    "Hurricane_Cat5 <- html_table(temp[2])[[1]] ## The table we're interested in\n",
    "\n",
    "\n",
    "#Fetching the Category 4\n",
    "scotusURL <- \"https://en.wikipedia.org/wiki/List_of_Category_4_Atlantic_hurricanes\"\n",
    "\n",
    "temp <- scotusURL %>% \n",
    "  html %>%\n",
    "  html_nodes(\"table\")\n",
    "\n",
    "Hurricane_Cat4_1 <- html_table(temp[2],fill = T)[[1]] ## The table we're interested\n",
    "Hurricane_Cat4_2 <- html_table(temp[3],fill = T)[[1]] ## The table we're interested\n",
    "Hurricane_Cat4_3 <- html_table(temp[4],fill = T)[[1]] ## The table we're interested\n",
    "Hurricane_Cat4_4 <- html_table(temp[5],fill = T)[[1]] ## The table we're interested\n",
    "Hurricane_Cat4_5 <- html_table(temp[6],fill = T)[[1]] ## The table we're interested"
   ]
  },
  {
   "cell_type": "markdown",
   "metadata": {},
   "source": [
    "#### Cleaning and formating the data obtained for Category 4"
   ]
  },
  {
   "cell_type": "code",
   "execution_count": 3,
   "metadata": {},
   "outputs": [],
   "source": [
    "n<-dim(Hurricane_Cat4_1)[1]\n",
    "Hurricane_Cat4_1<-Hurricane_Cat4_1[2:(n-1),]\n",
    "\n",
    "n<-dim(Hurricane_Cat4_2)[1]\n",
    "Hurricane_Cat4_2<-Hurricane_Cat4_2[2:(n-1),]\n",
    "\n",
    "n<-dim(Hurricane_Cat4_3)[1]\n",
    "Hurricane_Cat4_3<-Hurricane_Cat4_3[2:(n-1),]\n",
    "\n",
    "n<-dim(Hurricane_Cat4_4)[1]\n",
    "Hurricane_Cat4_4<-Hurricane_Cat4_4[2:(n-1),]\n",
    "\n",
    "n<-dim(Hurricane_Cat4_5)[1]\n",
    "Hurricane_Cat4_5<-Hurricane_Cat4_5[2:(n-1),]\n",
    "\n",
    "#Getting the 5th one into format\n",
    "Hurricane_Cat4_5$`Maximumsustained winds` <- as.numeric(substr(\n",
    "    Hurricane_Cat4_5$`Maximumsustained winds`,1,3))\n",
    "\n",
    "Hurricane_Cat4_5$`Minimum pressure` <- as.numeric(substr(\n",
    "    Hurricane_Cat4_5$`Minimum pressure`,1,3))"
   ]
  },
  {
   "cell_type": "code",
   "execution_count": 4,
   "metadata": {},
   "outputs": [],
   "source": [
    "# Creating the Category 4 master table \n",
    "\n",
    "Huri_Cat4 <- rbindlist( list(Hurricane_Cat4_1[, c(1,2,3,6,7)],  \n",
    "                             Hurricane_Cat4_2[, c(1,2,3,6,7)], \n",
    "                             Hurricane_Cat4_3[, c(1,2,3,6,7)],\n",
    "                             Hurricane_Cat4_4[, c(1,2,3,6,7)],  \n",
    "                             Hurricane_Cat4_5[, c(1,3,4,5,6)]))\n",
    "\n",
    "Huri_Cat4$mon <- gsub(\"([A-Za-z]+).*\", \"\\\\1\", Huri_Cat4$Month)\n",
    "Huri_Cat4$Min_pressure <- gsub(\"([0-9]+)\", \"\\\\1\", Huri_Cat4$'Minimum pressure')\n",
    "Huri_Cat4$year <- as.numeric(Huri_Cat4$Season)\n",
    "\n",
    "colnames(Huri_Cat4)[c(4,7)] <- c('Max_Wind', 'Min_Pressure')\n"
   ]
  },
  {
   "cell_type": "markdown",
   "metadata": {},
   "source": [
    "#### Cleaning and formating the data obtained for Category 5"
   ]
  },
  {
   "cell_type": "code",
   "execution_count": 5,
   "metadata": {},
   "outputs": [],
   "source": [
    "#Clearning and Prer the Category 5 Huricane table\n",
    "n<-dim(Hurricane_Cat5)[1]\n",
    "Hurricane_Cat5<-Hurricane_Cat5[1:(n-1),]\n",
    "\n",
    "Hurricane_Cat5$`Duration(hours)` <- substr(Hurricane_Cat5$`Duration(hours)`, 21,24)\n",
    "Hurricane_Cat5$`Sustainedwind speeds`<- substr(Hurricane_Cat5$`Sustainedwind speeds`,1,3)\n",
    "Hurricane_Cat5$Pressure<- substr(Hurricane_Cat5$Pressure,21,24)\n",
    "Hurricane_Cat5$Deaths<- substr(Hurricane_Cat5$Deaths,21,30)\n",
    "\n",
    "Hurricane_Cat5$mon <- gsub(\"([A-Za-z]+).*\", \"\\\\1\", Hurricane_Cat5$`Dates as aCategory 5`)\n",
    "Hurricane_Cat5$year <- gsub(\"[A-Za-z]+.+,\", \"\\\\1\", Hurricane_Cat5$`Dates as aCategory 5`)\n",
    "Hurricane_Cat5$year <- as.numeric(gsub(\"([0-9]+).*$\", \"\\\\1\", Hurricane_Cat5$year))\n",
    "\n",
    "colnames(Hurricane_Cat5)[c(4,5)] <- c('Max_Wind', 'Min_Pressure')\n"
   ]
  },
  {
   "cell_type": "code",
   "execution_count": 6,
   "metadata": {},
   "outputs": [],
   "source": [
    "## Creating the decade variable \n",
    "Huri_Cat4$Decade <- Huri_Cat4$year - Huri_Cat4$year %% 10\n",
    "Hurricane_Cat5$Decade <- Hurricane_Cat5$year - Hurricane_Cat5$year %% 10"
   ]
  },
  {
   "cell_type": "markdown",
   "metadata": {},
   "source": [
    "### Counting the frequencies of Huricane Data and Plotting them"
   ]
  },
  {
   "cell_type": "code",
   "execution_count": 7,
   "metadata": {},
   "outputs": [
    {
     "data": {
      "text/html": [
       "<table>\n",
       "<thead><tr><th scope=col>Decade</th><th scope=col>count</th></tr></thead>\n",
       "<tbody>\n",
       "\t<tr><td>1850</td><td> 2  </td></tr>\n",
       "\t<tr><td>1860</td><td> 1  </td></tr>\n",
       "\t<tr><td>1870</td><td> 1  </td></tr>\n",
       "\t<tr><td>1880</td><td> 4  </td></tr>\n",
       "\t<tr><td>1890</td><td> 4  </td></tr>\n",
       "\t<tr><td>1900</td><td> 2  </td></tr>\n",
       "\t<tr><td>1910</td><td> 6  </td></tr>\n",
       "\t<tr><td>1920</td><td> 6  </td></tr>\n",
       "\t<tr><td>1930</td><td>10  </td></tr>\n",
       "\t<tr><td>1940</td><td> 9  </td></tr>\n",
       "\t<tr><td>1950</td><td>14  </td></tr>\n",
       "\t<tr><td>1960</td><td>10  </td></tr>\n",
       "\t<tr><td>1970</td><td> 5  </td></tr>\n",
       "\t<tr><td>1980</td><td> 7  </td></tr>\n",
       "\t<tr><td>1990</td><td>12  </td></tr>\n",
       "\t<tr><td>2000</td><td>14  </td></tr>\n",
       "\t<tr><td>2010</td><td>13  </td></tr>\n",
       "</tbody>\n",
       "</table>\n"
      ],
      "text/latex": [
       "\\begin{tabular}{r|ll}\n",
       " Decade & count\\\\\n",
       "\\hline\n",
       "\t 1850 &  2  \\\\\n",
       "\t 1860 &  1  \\\\\n",
       "\t 1870 &  1  \\\\\n",
       "\t 1880 &  4  \\\\\n",
       "\t 1890 &  4  \\\\\n",
       "\t 1900 &  2  \\\\\n",
       "\t 1910 &  6  \\\\\n",
       "\t 1920 &  6  \\\\\n",
       "\t 1930 & 10  \\\\\n",
       "\t 1940 &  9  \\\\\n",
       "\t 1950 & 14  \\\\\n",
       "\t 1960 & 10  \\\\\n",
       "\t 1970 &  5  \\\\\n",
       "\t 1980 &  7  \\\\\n",
       "\t 1990 & 12  \\\\\n",
       "\t 2000 & 14  \\\\\n",
       "\t 2010 & 13  \\\\\n",
       "\\end{tabular}\n"
      ],
      "text/markdown": [
       "\n",
       "Decade | count | \n",
       "|---|---|---|---|---|---|---|---|---|---|---|---|---|---|---|---|---|\n",
       "| 1850 |  2   | \n",
       "| 1860 |  1   | \n",
       "| 1870 |  1   | \n",
       "| 1880 |  4   | \n",
       "| 1890 |  4   | \n",
       "| 1900 |  2   | \n",
       "| 1910 |  6   | \n",
       "| 1920 |  6   | \n",
       "| 1930 | 10   | \n",
       "| 1940 |  9   | \n",
       "| 1950 | 14   | \n",
       "| 1960 | 10   | \n",
       "| 1970 |  5   | \n",
       "| 1980 |  7   | \n",
       "| 1990 | 12   | \n",
       "| 2000 | 14   | \n",
       "| 2010 | 13   | \n",
       "\n",
       "\n"
      ],
      "text/plain": [
       "   Decade count\n",
       "1  1850    2   \n",
       "2  1860    1   \n",
       "3  1870    1   \n",
       "4  1880    4   \n",
       "5  1890    4   \n",
       "6  1900    2   \n",
       "7  1910    6   \n",
       "8  1920    6   \n",
       "9  1930   10   \n",
       "10 1940    9   \n",
       "11 1950   14   \n",
       "12 1960   10   \n",
       "13 1970    5   \n",
       "14 1980    7   \n",
       "15 1990   12   \n",
       "16 2000   14   \n",
       "17 2010   13   "
      ]
     },
     "metadata": {},
     "output_type": "display_data"
    }
   ],
   "source": [
    "count_4 <- group_by(Huri_Cat4, Decade)\n",
    "count_4 <- summarize(count_4, count = n())\n",
    "count_4"
   ]
  },
  {
   "cell_type": "code",
   "execution_count": 8,
   "metadata": {},
   "outputs": [
    {
     "data": {},
     "metadata": {},
     "output_type": "display_data"
    },
    {
     "data": {
      "image/png": "[encoded data removed]",
      "text/plain": [
       "plot without title"
      ]
     },
     "metadata": {},
     "output_type": "display_data"
    }
   ],
   "source": [
    "ggplot(Huri_Cat4, aes(x=Decade)) + \n",
    "geom_histogram(binwidth=5, color = \"black\", fill = \"aquamarine3\" )+\n",
    "#geom_smooth(method = \"loess\", se = FALSE)+\n",
    "labs(x = \"Decades\", y = \"Number of Hurricanes\", \n",
    "     title = \"Count of Category - 4 Hurricanes over the Decades\")"
   ]
  },
  {
   "cell_type": "code",
   "execution_count": 9,
   "metadata": {},
   "outputs": [
    {
     "data": {
      "text/html": [
       "<table>\n",
       "<thead><tr><th scope=col>Decade</th><th scope=col>count</th></tr></thead>\n",
       "<tbody>\n",
       "\t<tr><td>1920</td><td>2   </td></tr>\n",
       "\t<tr><td>1930</td><td>6   </td></tr>\n",
       "\t<tr><td>1950</td><td>2   </td></tr>\n",
       "\t<tr><td>1960</td><td>4   </td></tr>\n",
       "\t<tr><td>1970</td><td>3   </td></tr>\n",
       "\t<tr><td>1980</td><td>3   </td></tr>\n",
       "\t<tr><td>1990</td><td>2   </td></tr>\n",
       "\t<tr><td>2000</td><td>8   </td></tr>\n",
       "\t<tr><td>2010</td><td>3   </td></tr>\n",
       "\t<tr><td>1940</td><td>0   </td></tr>\n",
       "</tbody>\n",
       "</table>\n"
      ],
      "text/latex": [
       "\\begin{tabular}{r|ll}\n",
       " Decade & count\\\\\n",
       "\\hline\n",
       "\t 1920 & 2   \\\\\n",
       "\t 1930 & 6   \\\\\n",
       "\t 1950 & 2   \\\\\n",
       "\t 1960 & 4   \\\\\n",
       "\t 1970 & 3   \\\\\n",
       "\t 1980 & 3   \\\\\n",
       "\t 1990 & 2   \\\\\n",
       "\t 2000 & 8   \\\\\n",
       "\t 2010 & 3   \\\\\n",
       "\t 1940 & 0   \\\\\n",
       "\\end{tabular}\n"
      ],
      "text/markdown": [
       "\n",
       "Decade | count | \n",
       "|---|---|---|---|---|---|---|---|---|---|\n",
       "| 1920 | 2    | \n",
       "| 1930 | 6    | \n",
       "| 1950 | 2    | \n",
       "| 1960 | 4    | \n",
       "| 1970 | 3    | \n",
       "| 1980 | 3    | \n",
       "| 1990 | 2    | \n",
       "| 2000 | 8    | \n",
       "| 2010 | 3    | \n",
       "| 1940 | 0    | \n",
       "\n",
       "\n"
      ],
      "text/plain": [
       "   Decade count\n",
       "1  1920   2    \n",
       "2  1930   6    \n",
       "3  1950   2    \n",
       "4  1960   4    \n",
       "5  1970   3    \n",
       "6  1980   3    \n",
       "7  1990   2    \n",
       "8  2000   8    \n",
       "9  2010   3    \n",
       "10 1940   0    "
      ]
     },
     "metadata": {},
     "output_type": "display_data"
    }
   ],
   "source": [
    "count_5 <- group_by(Hurricane_Cat5, Decade)\n",
    "count_5 <- summarize(count_5, count = n())\n",
    "count_5 <- rbind(count_5,c(1940,0))\n",
    "count_5"
   ]
  },
  {
   "cell_type": "markdown",
   "metadata": {},
   "source": [
    "Decade - 1940 has not seen any category 5 Hurricanes, so we have added the one row 1940 with 0 into count_5 table."
   ]
  },
  {
   "cell_type": "code",
   "execution_count": 10,
   "metadata": {},
   "outputs": [
    {
     "data": {},
     "metadata": {},
     "output_type": "display_data"
    },
    {
     "data": {
      "image/png": "[encoded data removed]",
      "text/plain": [
       "plot without title"
      ]
     },
     "metadata": {},
     "output_type": "display_data"
    }
   ],
   "source": [
    "ggplot(Hurricane_Cat5, aes(x=Decade)) + \n",
    "geom_histogram(binwidth=5, color = \"black\", fill = \"aquamarine3\" )+\n",
    "#geom_smooth(method = \"loess\", se = FALSE)+\n",
    "labs(x = \"Decades\", y = \"Number of Hurricanes\",\n",
    "     title = \"Count of Category - 5 Hurricanes over the Decades\")"
   ]
  },
  {
   "cell_type": "code",
   "execution_count": 11,
   "metadata": {},
   "outputs": [],
   "source": [
    "#Combine Cat4 and Cat5 at name and year, max speed, minimun pressure\n",
    "Master <- rbind(Huri_Cat4[,c(1,9,4,7)], Hurricane_Cat5[,c(1,12,4,5)])"
   ]
  },
  {
   "cell_type": "code",
   "execution_count": 12,
   "metadata": {},
   "outputs": [
    {
     "data": {
      "text/html": [
       "<table>\n",
       "<thead><tr><th scope=col>Decade</th><th scope=col>count</th></tr></thead>\n",
       "<tbody>\n",
       "\t<tr><td>1850</td><td> 2  </td></tr>\n",
       "\t<tr><td>1860</td><td> 1  </td></tr>\n",
       "\t<tr><td>1870</td><td> 1  </td></tr>\n",
       "\t<tr><td>1880</td><td> 4  </td></tr>\n",
       "\t<tr><td>1890</td><td> 4  </td></tr>\n",
       "\t<tr><td>1900</td><td> 2  </td></tr>\n",
       "\t<tr><td>1910</td><td> 6  </td></tr>\n",
       "\t<tr><td>1920</td><td> 8  </td></tr>\n",
       "\t<tr><td>1930</td><td>16  </td></tr>\n",
       "\t<tr><td>1940</td><td> 9  </td></tr>\n",
       "\t<tr><td>1950</td><td>16  </td></tr>\n",
       "\t<tr><td>1960</td><td>14  </td></tr>\n",
       "\t<tr><td>1970</td><td> 8  </td></tr>\n",
       "\t<tr><td>1980</td><td>10  </td></tr>\n",
       "\t<tr><td>1990</td><td>14  </td></tr>\n",
       "\t<tr><td>2000</td><td>22  </td></tr>\n",
       "\t<tr><td>2010</td><td>16  </td></tr>\n",
       "</tbody>\n",
       "</table>\n"
      ],
      "text/latex": [
       "\\begin{tabular}{r|ll}\n",
       " Decade & count\\\\\n",
       "\\hline\n",
       "\t 1850 &  2  \\\\\n",
       "\t 1860 &  1  \\\\\n",
       "\t 1870 &  1  \\\\\n",
       "\t 1880 &  4  \\\\\n",
       "\t 1890 &  4  \\\\\n",
       "\t 1900 &  2  \\\\\n",
       "\t 1910 &  6  \\\\\n",
       "\t 1920 &  8  \\\\\n",
       "\t 1930 & 16  \\\\\n",
       "\t 1940 &  9  \\\\\n",
       "\t 1950 & 16  \\\\\n",
       "\t 1960 & 14  \\\\\n",
       "\t 1970 &  8  \\\\\n",
       "\t 1980 & 10  \\\\\n",
       "\t 1990 & 14  \\\\\n",
       "\t 2000 & 22  \\\\\n",
       "\t 2010 & 16  \\\\\n",
       "\\end{tabular}\n"
      ],
      "text/markdown": [
       "\n",
       "Decade | count | \n",
       "|---|---|---|---|---|---|---|---|---|---|---|---|---|---|---|---|---|\n",
       "| 1850 |  2   | \n",
       "| 1860 |  1   | \n",
       "| 1870 |  1   | \n",
       "| 1880 |  4   | \n",
       "| 1890 |  4   | \n",
       "| 1900 |  2   | \n",
       "| 1910 |  6   | \n",
       "| 1920 |  8   | \n",
       "| 1930 | 16   | \n",
       "| 1940 |  9   | \n",
       "| 1950 | 16   | \n",
       "| 1960 | 14   | \n",
       "| 1970 |  8   | \n",
       "| 1980 | 10   | \n",
       "| 1990 | 14   | \n",
       "| 2000 | 22   | \n",
       "| 2010 | 16   | \n",
       "\n",
       "\n"
      ],
      "text/plain": [
       "   Decade count\n",
       "1  1850    2   \n",
       "2  1860    1   \n",
       "3  1870    1   \n",
       "4  1880    4   \n",
       "5  1890    4   \n",
       "6  1900    2   \n",
       "7  1910    6   \n",
       "8  1920    8   \n",
       "9  1930   16   \n",
       "10 1940    9   \n",
       "11 1950   16   \n",
       "12 1960   14   \n",
       "13 1970    8   \n",
       "14 1980   10   \n",
       "15 1990   14   \n",
       "16 2000   22   \n",
       "17 2010   16   "
      ]
     },
     "metadata": {},
     "output_type": "display_data"
    }
   ],
   "source": [
    "count <- group_by(Master, Decade)\n",
    "count <- summarize(count, count = n())\n",
    "count"
   ]
  },
  {
   "cell_type": "code",
   "execution_count": 13,
   "metadata": {},
   "outputs": [
    {
     "data": {},
     "metadata": {},
     "output_type": "display_data"
    },
    {
     "data": {
      "image/png": "[encoded data removed]",
      "text/plain": [
       "plot without title"
      ]
     },
     "metadata": {},
     "output_type": "display_data"
    }
   ],
   "source": [
    "ggplot(Master, aes(x=Decade)) + \n",
    "geom_histogram(binwidth=5, color = \"black\", fill = \"aquamarine4\" )+\n",
    "#geom_smooth(method = \"loess\", se = FALSE)+\n",
    "labs(x = \"Decades\", y = \"Number of Hurricanes\", \n",
    "     title = \"Count of Category - 4 & 5 Hurricanes over the Decades\")"
   ]
  },
  {
   "cell_type": "markdown",
   "metadata": {},
   "source": [
    "#### Observation\n",
    "\n",
    "An interesting observation that can be seen here is the increase trend in the total number of hurricane per decade that we have seen since 1850."
   ]
  },
  {
   "cell_type": "markdown",
   "metadata": {},
   "source": [
    "Calculating some Desciptive Statistics for the Category 4, Category 5 and master data."
   ]
  },
  {
   "cell_type": "code",
   "execution_count": 14,
   "metadata": {},
   "outputs": [
    {
     "name": "stdout",
     "output_type": "stream",
     "text": [
      "[1] \"Category 4 Mean value -  7.05882352941176\"\n",
      "[1] \"Category 4 Varaince value -  20.4338235294118\"\n",
      "[1] \"Category 4 SD value -  4.52037869314195\"\n",
      "[1] \"Category 4 Median value -  6\"\n",
      "[1] \"Category 4 Max value -  14\"\n",
      "[1] \"Category 4 Min value -  1\"\n"
     ]
    }
   ],
   "source": [
    "# Calculating the parameters for category 4\n",
    "mean_4 = mean(count_4$count)\n",
    "var_4 = var(count_4$count)\n",
    "sd_4 = sd(count_4$count)\n",
    "med_4 = median(count_4$count)\n",
    "max_4 = max(count_4$count)\n",
    "min_4 = min(count_4$count)\n",
    "\n",
    "print(paste(\"Category 4 Mean value - \", mean_4))\n",
    "print(paste(\"Category 4 Varaince value - \", var_4))\n",
    "print(paste(\"Category 4 SD value - \", sd_4))\n",
    "print(paste(\"Category 4 Median value - \", med_4))\n",
    "print(paste(\"Category 4 Max value - \", max_4))\n",
    "print(paste(\"Category 4 Min value - \", min_4))"
   ]
  },
  {
   "cell_type": "code",
   "execution_count": 15,
   "metadata": {},
   "outputs": [
    {
     "name": "stdout",
     "output_type": "stream",
     "text": [
      "[1] \"Category 5 Mean value -  3.3\"\n",
      "[1] \"Category 5 Varaince value -  5.12222222222222\"\n",
      "[1] \"Category 5 SD value -  2.26323269290239\"\n",
      "[1] \"Category 5 Median value -  3\"\n",
      "[1] \"Category 5 Max value -  8\"\n",
      "[1] \"Category 5 Min value -  0\"\n"
     ]
    }
   ],
   "source": [
    "# Calculating the parameters for category 5\n",
    "mean_5 = mean(count_5$count)\n",
    "var_5 = var(count_5$count)\n",
    "sd_5 = sd(count_5$count)\n",
    "med_5 = median(count_5$count)\n",
    "max_5 = max(count_5$count)\n",
    "min_5 = min(count_5$count)\n",
    "\n",
    "print(paste(\"Category 5 Mean value - \", mean_5))\n",
    "print(paste(\"Category 5 Varaince value - \", var_5))\n",
    "print(paste(\"Category 5 SD value - \", sd_5))\n",
    "print(paste(\"Category 5 Median value - \", med_5))\n",
    "print(paste(\"Category 5 Max value - \", max_5))\n",
    "print(paste(\"Category 5 Min value - \", min_5))"
   ]
  },
  {
   "cell_type": "code",
   "execution_count": 16,
   "metadata": {},
   "outputs": [
    {
     "name": "stdout",
     "output_type": "stream",
     "text": [
      "[1] \"Category 4 & 5 Mean value -  9\"\n",
      "[1] \"Category 4 & 5 Varaince value -  40.875\"\n",
      "[1] \"Category 4 & 5 SD value -  6.39335592627221\"\n",
      "[1] \"Category 4 & 5 Median value -  8\"\n",
      "[1] \"Category 4 & 5 Max value -  22\"\n",
      "[1] \"Category 4 & 5 Min value -  1\"\n"
     ]
    }
   ],
   "source": [
    "# Calculating the parameters for category 4 and 5 clubbed together\n",
    "mean_all = mean(count$count)\n",
    "var_all = var(count$count)\n",
    "sd_all = sd(count$count)\n",
    "med_all = median(count$count)\n",
    "max_all = max(count$count)\n",
    "min_all = min(count$count)\n",
    "\n",
    "print(paste(\"Category 4 & 5 Mean value - \", mean_all))\n",
    "print(paste(\"Category 4 & 5 Varaince value - \", var_all))\n",
    "print(paste(\"Category 4 & 5 SD value - \", sd_all))\n",
    "print(paste(\"Category 4 & 5 Median value - \", med_all))\n",
    "print(paste(\"Category 4 & 5 Max value - \", max_all))\n",
    "print(paste(\"Category 4 & 5 Min value - \", min_all))"
   ]
  },
  {
   "cell_type": "markdown",
   "metadata": {},
   "source": [
    "# Fitting Distribution"
   ]
  },
  {
   "cell_type": "markdown",
   "metadata": {},
   "source": [
    "Poisson distribution is popular for modelling the number of times an event occurs in an interval of time or space, let us consider modelling the data into Poisson Distribution. We can also consider negative binomial distribution as that can also be a good fit for the problem at hand."
   ]
  },
  {
   "cell_type": "markdown",
   "metadata": {},
   "source": [
    "### Poisson Distribution"
   ]
  },
  {
   "cell_type": "markdown",
   "metadata": {},
   "source": [
    "Each storm is considered as a point event in time, occurring independently. If λ is a measure of the historically based number of events per decade, then P(X = x | λ) defines the probability of having x events per year, which is given by the Poisson probability distribution function (PDF) –\n",
    "$$ P(x) = \\frac{\\lambda^x}{x!}\\ e^{-\\lambda} $$\n",
    "\n",
    "The parameter of the Poisson distribution λ can be estimated from data –\n",
    "$$ λ =  \\frac{\\sum_{i=1}^{N}x_i}{N} $$\n"
   ]
  },
  {
   "cell_type": "markdown",
   "metadata": {},
   "source": [
    "#### Parameters Estimation"
   ]
  },
  {
   "cell_type": "markdown",
   "metadata": {},
   "source": [
    "The parameter for Poisson distribution is estimated and results are presented below - "
   ]
  },
  {
   "cell_type": "code",
   "execution_count": 17,
   "metadata": {},
   "outputs": [
    {
     "name": "stdout",
     "output_type": "stream",
     "text": [
      "[1] \"lamba value for category 4 hurricanes -  7.05882352941176\"\n"
     ]
    }
   ],
   "source": [
    "lambda_4 <- mean_4\n",
    "print(paste(\"lamba value for category 4 hurricanes - \",lambda_4 ))"
   ]
  },
  {
   "cell_type": "code",
   "execution_count": 18,
   "metadata": {},
   "outputs": [
    {
     "name": "stdout",
     "output_type": "stream",
     "text": [
      "[1] \"lamba value for category 4 hurricanes -  3.3\"\n"
     ]
    }
   ],
   "source": [
    "lambda_5 <- mean_5\n",
    "print(paste(\"lamba value for category 4 hurricanes - \",lambda_5 ))"
   ]
  },
  {
   "cell_type": "code",
   "execution_count": 19,
   "metadata": {},
   "outputs": [
    {
     "name": "stdout",
     "output_type": "stream",
     "text": [
      "[1] \"lambda value for category 4 & 5 hurricanes -  9\"\n"
     ]
    }
   ],
   "source": [
    "lambda <- mean_all\n",
    "print(paste(\"lambda value for category 4 & 5 hurricanes - \",lambda ))"
   ]
  },
  {
   "cell_type": "markdown",
   "metadata": {},
   "source": [
    "#### Density Plots"
   ]
  },
  {
   "cell_type": "markdown",
   "metadata": {},
   "source": [
    "Based on the calculated values of the lambda following density plots are obtained for the category 4, category 5 and combined hurricane distributions."
   ]
  },
  {
   "cell_type": "code",
   "execution_count": 20,
   "metadata": {},
   "outputs": [
    {
     "data": {
      "image/png": "[encoded data removed]",
      "text/plain": [
       "plot without title"
      ]
     },
     "metadata": {},
     "output_type": "display_data"
    }
   ],
   "source": [
    "#Plotting the poisson distribution for category 4\n",
    "plot(0:20, dpois( x=0:20, lambda=lambda_4 ), \n",
    "     xlim=c(-2,22),col = 'blue', lwd= 3, \n",
    "     xlab=\"No of Estimated Hurricanes\", ylab=\"Probability\")\n",
    "\n",
    "lines(0:20,dpois( x=0:20, lambda=lambda_4 ), \n",
    "      xlim=c(-2,22), col=\"aquamarine3\",lwd = 3 )"
   ]
  },
  {
   "cell_type": "code",
   "execution_count": 21,
   "metadata": {
    "scrolled": false
   },
   "outputs": [
    {
     "data": {
      "image/png": "[encoded data removed]",
      "text/plain": [
       "plot without title"
      ]
     },
     "metadata": {},
     "output_type": "display_data"
    }
   ],
   "source": [
    "#Plotting the poisson distribution for category 5\n",
    "plot(0:15, dpois( x=0:15, lambda=lambda_5 ), \n",
    "     xlim=c(-2,17), col = 'blue', lwd= 3, \n",
    "     xlab=\"No of Estimated Hurricanes\", ylab=\"Probability\")\n",
    "\n",
    "lines(0:15,dpois( x=0:15, lambda=lambda_5 ), \n",
    "      xlim=c(-2,17), col=\"aquamarine3\", lwd = 3)"
   ]
  },
  {
   "cell_type": "code",
   "execution_count": 22,
   "metadata": {
    "scrolled": false
   },
   "outputs": [
    {
     "data": {
      "image/png": "[encoded data removed]",
      "text/plain": [
       "plot without title"
      ]
     },
     "metadata": {},
     "output_type": "display_data"
    }
   ],
   "source": [
    "#Plotting the poisson distribution for category 4 & 5 together\n",
    "plot(0:30, dpois( x=0:30, lambda=lambda ), \n",
    "     xlim=c(-2,33), col = 'blue', lwd= 3, \n",
    "     xlab=\"No of Estimated Hurricanes\", ylab=\"Probability\")\n",
    "\n",
    "lines(0:30,dpois( x=0:30, lambda=lambda ), \n",
    "      xlim=c(-2,33), col=\"aquamarine4\", lwd = 3)"
   ]
  },
  {
   "cell_type": "code",
   "execution_count": 23,
   "metadata": {},
   "outputs": [
    {
     "data": {
      "image/png": "[encoded data removed]",
      "text/plain": [
       "Plot with title \"Q-Q plot\""
      ]
     },
     "metadata": {},
     "output_type": "display_data"
    }
   ],
   "source": [
    "qqcomp(fitdist(count$count, \"pois\"))"
   ]
  },
  {
   "cell_type": "markdown",
   "metadata": {},
   "source": [
    "The Q-Q plot does seem to be good fit, but for a Poisson Distribution, we have mean = variance, but does not seem to be the case with your distribution,\n",
    "\n",
    "For Category 4 and 5 together, we have \n",
    "\n",
    "    mean < variance \n",
    "    (9 < 40.875)\n",
    "    \n",
    "This could be a case of **OverDispered Poisson.**\n",
    "\n",
    "The negative binomial distribution, can be used as an alternative to the Poisson distribution. It is especially useful for discrete data over an unbounded positive range whose sample variance exceeds the sample mean. In such cases, the observations are overdispersed with respect to a Poisson distribution, for which the mean is equal to the variance. Hence a Poisson distribution is not an appropriate model. Since the negative binomial distribution has one more parameter than the Poisson, the second parameter can be used to adjust the variance independently of the mean.\n",
    "    \n"
   ]
  },
  {
   "cell_type": "markdown",
   "metadata": {},
   "source": [
    "### Negative Binomial Distribution"
   ]
  },
  {
   "cell_type": "markdown",
   "metadata": {},
   "source": [
    "Let's now look at the negative binomial distribution Q-Q plot."
   ]
  },
  {
   "cell_type": "code",
   "execution_count": 24,
   "metadata": {},
   "outputs": [
    {
     "data": {
      "image/png": "[encoded data removed]",
      "text/plain": [
       "Plot with title \"Q-Q plot\""
      ]
     },
     "metadata": {},
     "output_type": "display_data"
    }
   ],
   "source": [
    "qqcomp(fitdist(count$count, \"nbinom\"))"
   ]
  },
  {
   "cell_type": "markdown",
   "metadata": {},
   "source": [
    "#### Parameter Estimation\n",
    "\n",
    "Looks like the Negative binomial is better fit than the poisson distribution. Let us estimate the parameters for the negative binomical distribution NB(r,p). We need to calculate the r and p\n",
    "\n",
    "$$ r = \\frac{\\mu^{2}}{\\sigma^{2} - \\mu} $$\n",
    "\n",
    "\n",
    "$$ p = \\frac{\\sigma^{2} - \\mu}{\\sigma^{2}} $$"
   ]
  },
  {
   "cell_type": "code",
   "execution_count": 25,
   "metadata": {},
   "outputs": [
    {
     "name": "stdout",
     "output_type": "stream",
     "text": [
      "[1] 2.541176\n"
     ]
    }
   ],
   "source": [
    "r = mean_all*mean_all / (var_all - mean_all)\n",
    "print(r)"
   ]
  },
  {
   "cell_type": "code",
   "execution_count": 26,
   "metadata": {},
   "outputs": [
    {
     "name": "stdout",
     "output_type": "stream",
     "text": [
      "[1] 0.7798165\n"
     ]
    }
   ],
   "source": [
    "p = (var_all-mean_all )/ var_all \n",
    "print(p)"
   ]
  },
  {
   "cell_type": "code",
   "execution_count": 27,
   "metadata": {
    "scrolled": false
   },
   "outputs": [
    {
     "data": {
      "image/png": "[encoded data removed]",
      "text/plain": [
       "plot without title"
      ]
     },
     "metadata": {},
     "output_type": "display_data"
    }
   ],
   "source": [
    "#Plotting the poisson distribution for category 4 & 5 together\n",
    "plot(0:45, dnbinom( x=0:45, mu = mean_all, size = r), \n",
    "     xlim=c(-2,48), col = 'blue', lwd= 3, \n",
    "     xlab=\"No of Estimated Hurricanes\", ylab=\"Probability\")\n",
    "\n",
    "lines(0:45,dnbinom( x=0:45, mu = mean_all, size = r),\n",
    "      xlim=c(-2,48), col=\"aquamarine4\", lwd =3)"
   ]
  },
  {
   "cell_type": "markdown",
   "metadata": {},
   "source": [
    "### Non-homogenous Poisson Distribution\n",
    "\n",
    "As mentioned earlier, we have noticed an increase in hurricanes over time, we now try to look at some other approach that addresses this effect.\n",
    "\n",
    "Earlier we observed that the Hurricane data was not fitting a Poisson distribution as the parameter ${\\lambda}$ was constant. Now we try to implement poisson distribution with varying ${\\lambda}$ and make observations.  "
   ]
  },
  {
   "cell_type": "code",
   "execution_count": 28,
   "metadata": {},
   "outputs": [
    {
     "name": "stderr",
     "output_type": "stream",
     "text": [
      "Warning message:\n",
      "\"Unknown or uninitialised column: 'lambda_curr'.\""
     ]
    }
   ],
   "source": [
    "#Caluclating lambda with respect to past hurricanes with that particular decade\n",
    "sum = 0\n",
    "for (i in c(1:nrow(count))){\n",
    "    sum = sum + count$count[i]\n",
    "    count$lambda_curr[i] <- sum/i\n",
    "}"
   ]
  },
  {
   "cell_type": "code",
   "execution_count": 29,
   "metadata": {},
   "outputs": [
    {
     "data": {
      "image/png": "[encoded data removed]",
      "text/plain": [
       "plot without title"
      ]
     },
     "metadata": {},
     "output_type": "display_data"
    }
   ],
   "source": [
    "#plotting the lambda value\n",
    "plot(count$Decade,count$lambda_curr,  col = 'blue', \n",
    "     lwd= 3, xlab=\"Value of Lambda vs Time\", ylab=\"Lambda\")\n",
    "\n",
    "lines(count$Decade,count$lambda_curr, col=\"aquamarine4\", lwd =3)"
   ]
  },
  {
   "cell_type": "code",
   "execution_count": 30,
   "metadata": {},
   "outputs": [
    {
     "data": {
      "text/html": [
       "<table>\n",
       "<thead><tr><th scope=col>Decade</th><th scope=col>count</th><th scope=col>lambda_curr</th></tr></thead>\n",
       "<tbody>\n",
       "\t<tr><td>1850    </td><td> 2      </td><td>2.000000</td></tr>\n",
       "\t<tr><td>1860    </td><td> 1      </td><td>1.500000</td></tr>\n",
       "\t<tr><td>1870    </td><td> 1      </td><td>1.333333</td></tr>\n",
       "\t<tr><td>1880    </td><td> 4      </td><td>2.000000</td></tr>\n",
       "\t<tr><td>1890    </td><td> 4      </td><td>2.400000</td></tr>\n",
       "\t<tr><td>1900    </td><td> 2      </td><td>2.333333</td></tr>\n",
       "\t<tr><td>1910    </td><td> 6      </td><td>2.857143</td></tr>\n",
       "\t<tr><td>1920    </td><td> 8      </td><td>3.500000</td></tr>\n",
       "\t<tr><td>1930    </td><td>16      </td><td>4.888889</td></tr>\n",
       "\t<tr><td>1940    </td><td> 9      </td><td>5.300000</td></tr>\n",
       "\t<tr><td>1950    </td><td>16      </td><td>6.272727</td></tr>\n",
       "\t<tr><td>1960    </td><td>14      </td><td>6.916667</td></tr>\n",
       "\t<tr><td>1970    </td><td> 8      </td><td>7.000000</td></tr>\n",
       "\t<tr><td>1980    </td><td>10      </td><td>7.214286</td></tr>\n",
       "\t<tr><td>1990    </td><td>14      </td><td>7.666667</td></tr>\n",
       "\t<tr><td>2000    </td><td>22      </td><td>8.562500</td></tr>\n",
       "\t<tr><td>2010    </td><td>16      </td><td>9.000000</td></tr>\n",
       "</tbody>\n",
       "</table>\n"
      ],
      "text/latex": [
       "\\begin{tabular}{r|lll}\n",
       " Decade & count & lambda\\_curr\\\\\n",
       "\\hline\n",
       "\t 1850     &  2       & 2.000000\\\\\n",
       "\t 1860     &  1       & 1.500000\\\\\n",
       "\t 1870     &  1       & 1.333333\\\\\n",
       "\t 1880     &  4       & 2.000000\\\\\n",
       "\t 1890     &  4       & 2.400000\\\\\n",
       "\t 1900     &  2       & 2.333333\\\\\n",
       "\t 1910     &  6       & 2.857143\\\\\n",
       "\t 1920     &  8       & 3.500000\\\\\n",
       "\t 1930     & 16       & 4.888889\\\\\n",
       "\t 1940     &  9       & 5.300000\\\\\n",
       "\t 1950     & 16       & 6.272727\\\\\n",
       "\t 1960     & 14       & 6.916667\\\\\n",
       "\t 1970     &  8       & 7.000000\\\\\n",
       "\t 1980     & 10       & 7.214286\\\\\n",
       "\t 1990     & 14       & 7.666667\\\\\n",
       "\t 2000     & 22       & 8.562500\\\\\n",
       "\t 2010     & 16       & 9.000000\\\\\n",
       "\\end{tabular}\n"
      ],
      "text/markdown": [
       "\n",
       "Decade | count | lambda_curr | \n",
       "|---|---|---|---|---|---|---|---|---|---|---|---|---|---|---|---|---|\n",
       "| 1850     |  2       | 2.000000 | \n",
       "| 1860     |  1       | 1.500000 | \n",
       "| 1870     |  1       | 1.333333 | \n",
       "| 1880     |  4       | 2.000000 | \n",
       "| 1890     |  4       | 2.400000 | \n",
       "| 1900     |  2       | 2.333333 | \n",
       "| 1910     |  6       | 2.857143 | \n",
       "| 1920     |  8       | 3.500000 | \n",
       "| 1930     | 16       | 4.888889 | \n",
       "| 1940     |  9       | 5.300000 | \n",
       "| 1950     | 16       | 6.272727 | \n",
       "| 1960     | 14       | 6.916667 | \n",
       "| 1970     |  8       | 7.000000 | \n",
       "| 1980     | 10       | 7.214286 | \n",
       "| 1990     | 14       | 7.666667 | \n",
       "| 2000     | 22       | 8.562500 | \n",
       "| 2010     | 16       | 9.000000 | \n",
       "\n",
       "\n"
      ],
      "text/plain": [
       "   Decade count lambda_curr\n",
       "1  1850    2    2.000000   \n",
       "2  1860    1    1.500000   \n",
       "3  1870    1    1.333333   \n",
       "4  1880    4    2.000000   \n",
       "5  1890    4    2.400000   \n",
       "6  1900    2    2.333333   \n",
       "7  1910    6    2.857143   \n",
       "8  1920    8    3.500000   \n",
       "9  1930   16    4.888889   \n",
       "10 1940    9    5.300000   \n",
       "11 1950   16    6.272727   \n",
       "12 1960   14    6.916667   \n",
       "13 1970    8    7.000000   \n",
       "14 1980   10    7.214286   \n",
       "15 1990   14    7.666667   \n",
       "16 2000   22    8.562500   \n",
       "17 2010   16    9.000000   "
      ]
     },
     "metadata": {},
     "output_type": "display_data"
    }
   ],
   "source": [
    "count"
   ]
  },
  {
   "cell_type": "markdown",
   "metadata": {},
   "source": [
    "Clearly we can see an increase in Lambda values (Poisson) with respect to decade(time). We try to find the relationship between lambda and time by fitting a regression model as the trend observed is linear."
   ]
  },
  {
   "cell_type": "code",
   "execution_count": 31,
   "metadata": {},
   "outputs": [],
   "source": [
    "#Fitting a linear model to estimate the coefficient and intercept\n",
    "fit = lm(count$lambda_curr~count$Decade)"
   ]
  },
  {
   "cell_type": "code",
   "execution_count": 32,
   "metadata": {},
   "outputs": [
    {
     "data": {
      "text/plain": [
       "\n",
       "Call:\n",
       "lm(formula = count$lambda_curr ~ count$Decade)\n",
       "\n",
       "Residuals:\n",
       "     Min       1Q   Median       3Q      Max \n",
       "-0.87015 -0.28807  0.03485  0.20484  1.37360 \n",
       "\n",
       "Coefficients:\n",
       "               Estimate Std. Error t value Pr(>|t|)    \n",
       "(Intercept)  -94.725725   5.549659  -17.07 3.09e-11 ***\n",
       "count$Decade   0.051542   0.002875   17.93 1.53e-11 ***\n",
       "---\n",
       "Signif. codes:  0 '***' 0.001 '**' 0.01 '*' 0.05 '.' 0.1 ' ' 1\n",
       "\n",
       "Residual standard error: 0.5806 on 15 degrees of freedom\n",
       "Multiple R-squared:  0.9554,\tAdjusted R-squared:  0.9525 \n",
       "F-statistic: 321.5 on 1 and 15 DF,  p-value: 1.526e-11\n"
      ]
     },
     "metadata": {},
     "output_type": "display_data"
    }
   ],
   "source": [
    "summary(fit)"
   ]
  },
  {
   "cell_type": "markdown",
   "metadata": {},
   "source": [
    "So the obtained linear equation of lambda with respect to time from the regression model is  - \n",
    "\n",
    "$$ {\\hat\\lambda} = 0.051542 * Decade - 94.725725 $$"
   ]
  },
  {
   "cell_type": "code",
   "execution_count": 33,
   "metadata": {},
   "outputs": [
    {
     "data": {
      "image/png": "[encoded data removed]",
      "text/plain": [
       "Plot with title \"Predicted vs Fitted Values for parameter lambda\""
      ]
     },
     "metadata": {},
     "output_type": "display_data"
    }
   ],
   "source": [
    "plot(count$Decade,count$lambda_curr,  col = 'blue',\n",
    "     ylim=c(-1,10),  lwd= 3, xlab=\"Time\", ylab=\"Lambda/Lambda(predicted)\")\n",
    "\n",
    "lines(count$Decade, (0.051542 * count$Decade - 94.725725), \n",
    "      ylim=c(-1,10), col=\"aquamarine4\", lwd =3)\n",
    "\n",
    "title (\"Predicted vs Fitted Values for parameter lambda\")"
   ]
  },
  {
   "cell_type": "markdown",
   "metadata": {},
   "source": [
    "Now lets check the predicted value of lambda for the upcoming decade 2020"
   ]
  },
  {
   "cell_type": "code",
   "execution_count": 34,
   "metadata": {},
   "outputs": [
    {
     "data": {
      "text/html": [
       "9.389115"
      ],
      "text/latex": [
       "9.389115"
      ],
      "text/markdown": [
       "9.389115"
      ],
      "text/plain": [
       "[1] 9.389115"
      ]
     },
     "metadata": {},
     "output_type": "display_data"
    }
   ],
   "source": [
    "lambda_2020 = 0.051542 * 2020 - 94.725725\n",
    "lambda_2020"
   ]
  },
  {
   "cell_type": "code",
   "execution_count": 35,
   "metadata": {},
   "outputs": [
    {
     "data": {
      "image/png": "[encoded data removed]",
      "text/plain": [
       "plot without title"
      ]
     },
     "metadata": {},
     "output_type": "display_data"
    }
   ],
   "source": [
    "#Plotting the poisson distribution for category 4 & 5 together for decade 2020\n",
    "plot(0:30, dpois( x=0:30, lambda=lambda_2020 ), \n",
    "     xlim=c(-2,33), col = 'blue', lwd= 3, \n",
    "     xlab=\"No of Estimated Hurricanes in Decade - 2020\", \n",
    "     ylab=\"Probability\")\n",
    "\n",
    "lines(0:30,dpois( x=0:30, lambda=lambda_2020 ), \n",
    "      xlim=c(-2,33), col=\"aquamarine4\", lwd = 3)"
   ]
  },
  {
   "cell_type": "markdown",
   "metadata": {},
   "source": [
    "Surely considering lambda as a factor of time might not be right way to look at the problem, but the idea of lambda being dependant on various factors should be considered. Various factors that influence the lambda value are discussed in next section."
   ]
  },
  {
   "cell_type": "markdown",
   "metadata": {},
   "source": [
    "## Reasons for Increase in Hurricanes"
   ]
  },
  {
   "cell_type": "markdown",
   "metadata": {},
   "source": [
    "Recent increases in Hurricanes can be in partly, due to the higher sea temperatures in the region that Atlantic hurricanes form in and move through.\n",
    "Numerous factor influence the sea surface temperature -\n",
    "\n",
    "    -Natural variability\n",
    "    -Human-induced emissions of heat-trapping gases and Particulate pollution\n",
    "   \n",
    "Some studies suggest that natural variability, which includes the **Atlantic Multidecadal Oscillation (AMO)**, is the dominant cause of the warming trend in the Atlantic. Atlantic Multidecadal Oscillation (AMO) is a climate cycle that affects the sea surface temperature (SST) of the North Atlantic Ocean based on different modes on multidecadal timescales.\n",
    "\n",
    "\n",
    "Like we just considered the time for measuring lambda for poisson distribution, similarly taking the above factors into consideration and modelling the hurricane data based on new data will give us a better distribution fit."
   ]
  },
  {
   "cell_type": "markdown",
   "metadata": {},
   "source": [
    "#### References : \n",
    "\n",
    "\n",
    "1) https://en.wikipedia.org/wiki/Atlantic_multidecadal_oscillation\n",
    "\n",
    "\n",
    "2) https://nca2014.globalchange.gov/report/our-changing-climate/changes-hurricanes#statement-16558\n",
    "\n"
   ]
  }
 ],
 "metadata": {
  "kernelspec": {
   "display_name": "R",
   "language": "R",
   "name": "ir"
  },
  "language_info": {
   "codemirror_mode": "r",
   "file_extension": ".r",
   "mimetype": "text/x-r-source",
   "name": "R",
   "pygments_lexer": "r",
   "version": "3.5.1"
  }
 },
 "nbformat": 4,
 "nbformat_minor": 2
}
